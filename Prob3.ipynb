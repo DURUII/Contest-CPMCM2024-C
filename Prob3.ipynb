{
 "cells": [
  {
   "cell_type": "code",
   "execution_count": 142,
   "metadata": {},
   "outputs": [],
   "source": [
    "import platform\n",
    "import pandas as pd\n",
    "import pickle\n",
    "import numpy as np\n",
    "import matplotlib.pyplot as plt\n",
    "import seaborn as sns\n",
    "import os\n",
    "from utils import *\n",
    "from tqdm.auto import tqdm\n",
    "import warnings\n",
    "warnings.filterwarnings('ignore')\n",
    "\n",
    "sns.set_context('notebook')\n",
    "sns.set_theme(style=\"ticks\", palette=\"pastel\")\n",
    "if platform.system() == 'Windows':\n",
    "    plt.rcParams['font.sans-serif'] = ['SimHei']\n",
    "    plt.rcParams['axes.unicode_minus'] = False\n",
    "else:  # Mac or other systems\n",
    "    plt.rcParams['font.family'] = ['Arial Unicode MS']\n",
    "\n",
    "# preprocess and load data\n",
    "filepath = 'train_data.pkl'\n",
    "if not os.path.exists(filepath):\n",
    "    general_process(output_filepath=filepath)\n",
    "with open(filepath, 'rb') as fin:\n",
    "    df = pickle.load(fin)\n",
    "    pip install scikit-posthocs"
   ]
  },
  {
   "cell_type": "code",
   "execution_count": 143,
   "metadata": {},
   "outputs": [],
   "source": [
    "df['flux_density_max'] = df['flux_density'].apply(lambda r: np.max(r))"
   ]
  },
  {
   "cell_type": "code",
   "execution_count": 144,
   "metadata": {},
   "outputs": [
    {
     "data": {
      "text/html": [
       "<div>\n",
       "<style scoped>\n",
       "    .dataframe tbody tr th:only-of-type {\n",
       "        vertical-align: middle;\n",
       "    }\n",
       "\n",
       "    .dataframe tbody tr th {\n",
       "        vertical-align: top;\n",
       "    }\n",
       "\n",
       "    .dataframe thead th {\n",
       "        text-align: right;\n",
       "    }\n",
       "</style>\n",
       "<table border=\"1\" class=\"dataframe\">\n",
       "  <thead>\n",
       "    <tr style=\"text-align: right;\">\n",
       "      <th></th>\n",
       "      <th>type_material</th>\n",
       "      <th>temp</th>\n",
       "      <th>freq</th>\n",
       "      <th>core_loss</th>\n",
       "      <th>type_waveform</th>\n",
       "      <th>flux_density</th>\n",
       "      <th>flux_density_max</th>\n",
       "    </tr>\n",
       "  </thead>\n",
       "  <tbody>\n",
       "    <tr>\n",
       "      <th>0</th>\n",
       "      <td>1</td>\n",
       "      <td>25</td>\n",
       "      <td>50030</td>\n",
       "      <td>1997.955250</td>\n",
       "      <td>正弦波</td>\n",
       "      <td>[0.000212759, 0.000389496, 0.00056608, 0.00074...</td>\n",
       "      <td>0.028849</td>\n",
       "    </tr>\n",
       "    <tr>\n",
       "      <th>1</th>\n",
       "      <td>1</td>\n",
       "      <td>25</td>\n",
       "      <td>50020</td>\n",
       "      <td>2427.749830</td>\n",
       "      <td>正弦波</td>\n",
       "      <td>[-0.000550883, -0.000357918, -0.000165251, 2.7...</td>\n",
       "      <td>0.031419</td>\n",
       "    </tr>\n",
       "    <tr>\n",
       "      <th>2</th>\n",
       "      <td>1</td>\n",
       "      <td>25</td>\n",
       "      <td>50020</td>\n",
       "      <td>3332.725760</td>\n",
       "      <td>正弦波</td>\n",
       "      <td>[-0.003779509, -0.003563773, -0.003348945, -0....</td>\n",
       "      <td>0.035535</td>\n",
       "    </tr>\n",
       "    <tr>\n",
       "      <th>3</th>\n",
       "      <td>1</td>\n",
       "      <td>25</td>\n",
       "      <td>50020</td>\n",
       "      <td>4502.908007</td>\n",
       "      <td>正弦波</td>\n",
       "      <td>[-0.000510932, -0.000266662, -2.25e-05, 0.0002...</td>\n",
       "      <td>0.040015</td>\n",
       "    </tr>\n",
       "    <tr>\n",
       "      <th>4</th>\n",
       "      <td>1</td>\n",
       "      <td>25</td>\n",
       "      <td>50030</td>\n",
       "      <td>6063.023248</td>\n",
       "      <td>正弦波</td>\n",
       "      <td>[0.000457688, 0.000732427, 0.00100655, 0.00128...</td>\n",
       "      <td>0.045028</td>\n",
       "    </tr>\n",
       "    <tr>\n",
       "      <th>...</th>\n",
       "      <td>...</td>\n",
       "      <td>...</td>\n",
       "      <td>...</td>\n",
       "      <td>...</td>\n",
       "      <td>...</td>\n",
       "      <td>...</td>\n",
       "      <td>...</td>\n",
       "    </tr>\n",
       "    <tr>\n",
       "      <th>12395</th>\n",
       "      <td>4</td>\n",
       "      <td>90</td>\n",
       "      <td>199190</td>\n",
       "      <td>20604.900210</td>\n",
       "      <td>梯形波</td>\n",
       "      <td>[-0.017758287, -0.017339198, -0.016932051, -0....</td>\n",
       "      <td>0.034867</td>\n",
       "    </tr>\n",
       "    <tr>\n",
       "      <th>12396</th>\n",
       "      <td>4</td>\n",
       "      <td>90</td>\n",
       "      <td>199190</td>\n",
       "      <td>26504.284280</td>\n",
       "      <td>梯形波</td>\n",
       "      <td>[-0.019690471, -0.019226928, -0.018775593, -0....</td>\n",
       "      <td>0.038341</td>\n",
       "    </tr>\n",
       "    <tr>\n",
       "      <th>12397</th>\n",
       "      <td>4</td>\n",
       "      <td>90</td>\n",
       "      <td>199190</td>\n",
       "      <td>46232.491530</td>\n",
       "      <td>梯形波</td>\n",
       "      <td>[-0.024998103, -0.024410702, -0.02383819, -0.0...</td>\n",
       "      <td>0.048877</td>\n",
       "    </tr>\n",
       "    <tr>\n",
       "      <th>12398</th>\n",
       "      <td>4</td>\n",
       "      <td>90</td>\n",
       "      <td>199190</td>\n",
       "      <td>61458.085900</td>\n",
       "      <td>梯形波</td>\n",
       "      <td>[-0.027987528, -0.027328599, -0.026686789, -0....</td>\n",
       "      <td>0.054889</td>\n",
       "    </tr>\n",
       "    <tr>\n",
       "      <th>12399</th>\n",
       "      <td>4</td>\n",
       "      <td>90</td>\n",
       "      <td>199190</td>\n",
       "      <td>107581.189300</td>\n",
       "      <td>梯形波</td>\n",
       "      <td>[-0.03522818, -0.034396528, -0.033585508, -0.0...</td>\n",
       "      <td>0.069135</td>\n",
       "    </tr>\n",
       "  </tbody>\n",
       "</table>\n",
       "<p>12400 rows × 7 columns</p>\n",
       "</div>"
      ],
      "text/plain": [
       "      type_material  temp    freq      core_loss type_waveform  \\\n",
       "0                 1    25   50030    1997.955250           正弦波   \n",
       "1                 1    25   50020    2427.749830           正弦波   \n",
       "2                 1    25   50020    3332.725760           正弦波   \n",
       "3                 1    25   50020    4502.908007           正弦波   \n",
       "4                 1    25   50030    6063.023248           正弦波   \n",
       "...             ...   ...     ...            ...           ...   \n",
       "12395             4    90  199190   20604.900210           梯形波   \n",
       "12396             4    90  199190   26504.284280           梯形波   \n",
       "12397             4    90  199190   46232.491530           梯形波   \n",
       "12398             4    90  199190   61458.085900           梯形波   \n",
       "12399             4    90  199190  107581.189300           梯形波   \n",
       "\n",
       "                                            flux_density  flux_density_max  \n",
       "0      [0.000212759, 0.000389496, 0.00056608, 0.00074...          0.028849  \n",
       "1      [-0.000550883, -0.000357918, -0.000165251, 2.7...          0.031419  \n",
       "2      [-0.003779509, -0.003563773, -0.003348945, -0....          0.035535  \n",
       "3      [-0.000510932, -0.000266662, -2.25e-05, 0.0002...          0.040015  \n",
       "4      [0.000457688, 0.000732427, 0.00100655, 0.00128...          0.045028  \n",
       "...                                                  ...               ...  \n",
       "12395  [-0.017758287, -0.017339198, -0.016932051, -0....          0.034867  \n",
       "12396  [-0.019690471, -0.019226928, -0.018775593, -0....          0.038341  \n",
       "12397  [-0.024998103, -0.024410702, -0.02383819, -0.0...          0.048877  \n",
       "12398  [-0.027987528, -0.027328599, -0.026686789, -0....          0.054889  \n",
       "12399  [-0.03522818, -0.034396528, -0.033585508, -0.0...          0.069135  \n",
       "\n",
       "[12400 rows x 7 columns]"
      ]
     },
     "execution_count": 144,
     "metadata": {},
     "output_type": "execute_result"
    }
   ],
   "source": [
    "df"
   ]
  },
  {
   "cell_type": "code",
   "execution_count": 217,
   "metadata": {},
   "outputs": [
    {
     "data": {
      "text/plain": [
       "0.00963815"
      ]
     },
     "execution_count": 217,
     "metadata": {},
     "output_type": "execute_result"
    }
   ],
   "source": [
    "df['flux_density_max'].min()\n"
   ]
  },
  {
   "cell_type": "markdown",
   "metadata": {},
   "source": [
    "1.单因素方差分析"
   ]
  },
  {
   "cell_type": "markdown",
   "metadata": {},
   "source": [
    "温度"
   ]
  },
  {
   "cell_type": "code",
   "execution_count": 204,
   "metadata": {},
   "outputs": [
    {
     "data": {
      "text/plain": [
       "<Axes: xlabel='temp', ylabel='core_loss'>"
      ]
     },
     "execution_count": 204,
     "metadata": {},
     "output_type": "execute_result"
    },
    {
     "data": {
      "image/png": "[encoded data removed]",
      "text/plain": [
       "<Figure size 640x480 with 1 Axes>"
      ]
     },
     "metadata": {},
     "output_type": "display_data"
    }
   ],
   "source": [
    "import seaborn as  sns\n",
    "sns.pointplot(x=df['temp'],y=df['core_loss'])    "
   ]
  },
  {
   "cell_type": "code",
   "execution_count": 223,
   "metadata": {},
   "outputs": [
    {
     "data": {
      "text/html": [
       "<div>\n",
       "<style scoped>\n",
       "    .dataframe tbody tr th:only-of-type {\n",
       "        vertical-align: middle;\n",
       "    }\n",
       "\n",
       "    .dataframe tbody tr th {\n",
       "        vertical-align: top;\n",
       "    }\n",
       "\n",
       "    .dataframe thead th {\n",
       "        text-align: right;\n",
       "    }\n",
       "</style>\n",
       "<table border=\"1\" class=\"dataframe\">\n",
       "  <thead>\n",
       "    <tr style=\"text-align: right;\">\n",
       "      <th></th>\n",
       "      <th>df</th>\n",
       "      <th>sum_sq</th>\n",
       "      <th>mean_sq</th>\n",
       "      <th>F</th>\n",
       "      <th>PR(&gt;F)</th>\n",
       "    </tr>\n",
       "  </thead>\n",
       "  <tbody>\n",
       "    <tr>\n",
       "      <th>temp</th>\n",
       "      <td>1.0</td>\n",
       "      <td>6.917689e+12</td>\n",
       "      <td>6.917689e+12</td>\n",
       "      <td>49.034601</td>\n",
       "      <td>2.644635e-12</td>\n",
       "    </tr>\n",
       "    <tr>\n",
       "      <th>Residual</th>\n",
       "      <td>12398.0</td>\n",
       "      <td>1.749082e+15</td>\n",
       "      <td>1.410777e+11</td>\n",
       "      <td>NaN</td>\n",
       "      <td>NaN</td>\n",
       "    </tr>\n",
       "  </tbody>\n",
       "</table>\n",
       "</div>"
      ],
      "text/plain": [
       "               df        sum_sq       mean_sq          F        PR(>F)\n",
       "temp          1.0  6.917689e+12  6.917689e+12  49.034601  2.644635e-12\n",
       "Residual  12398.0  1.749082e+15  1.410777e+11        NaN           NaN"
      ]
     },
     "execution_count": 223,
     "metadata": {},
     "output_type": "execute_result"
    }
   ],
   "source": [
    "#拟合公式\n",
    "from statsmodels.formula.api import ols\n",
    "model1=ols('core_loss~temp',data=df).fit()\n",
    "#model1.summary() 二选一\n",
    "#标准输出\n",
    "from statsmodels.stats.anova import anova_lm\n",
    "anova_lm(model1)\n",
    "\n"
   ]
  },
  {
   "cell_type": "code",
   "execution_count": 228,
   "metadata": {},
   "outputs": [
    {
     "data": {
      "text/html": [
       "<div>\n",
       "<style scoped>\n",
       "    .dataframe tbody tr th:only-of-type {\n",
       "        vertical-align: middle;\n",
       "    }\n",
       "\n",
       "    .dataframe tbody tr th {\n",
       "        vertical-align: top;\n",
       "    }\n",
       "\n",
       "    .dataframe thead th {\n",
       "        text-align: right;\n",
       "    }\n",
       "</style>\n",
       "<table border=\"1\" class=\"dataframe\">\n",
       "  <thead>\n",
       "    <tr style=\"text-align: right;\">\n",
       "      <th></th>\n",
       "      <th>25</th>\n",
       "      <th>50</th>\n",
       "      <th>70</th>\n",
       "      <th>90</th>\n",
       "    </tr>\n",
       "  </thead>\n",
       "  <tbody>\n",
       "    <tr>\n",
       "      <th>25</th>\n",
       "      <td>1.000000e+00</td>\n",
       "      <td>0.004935</td>\n",
       "      <td>2.821551e-08</td>\n",
       "      <td>5.611768e-09</td>\n",
       "    </tr>\n",
       "    <tr>\n",
       "      <th>50</th>\n",
       "      <td>4.934604e-03</td>\n",
       "      <td>1.000000</td>\n",
       "      <td>5.963027e-02</td>\n",
       "      <td>2.526206e-02</td>\n",
       "    </tr>\n",
       "    <tr>\n",
       "      <th>70</th>\n",
       "      <td>2.821551e-08</td>\n",
       "      <td>0.059630</td>\n",
       "      <td>1.000000e+00</td>\n",
       "      <td>1.000000e+00</td>\n",
       "    </tr>\n",
       "    <tr>\n",
       "      <th>90</th>\n",
       "      <td>5.611768e-09</td>\n",
       "      <td>0.025262</td>\n",
       "      <td>1.000000e+00</td>\n",
       "      <td>1.000000e+00</td>\n",
       "    </tr>\n",
       "  </tbody>\n",
       "</table>\n",
       "</div>"
      ],
      "text/plain": [
       "              25        50            70            90\n",
       "25  1.000000e+00  0.004935  2.821551e-08  5.611768e-09\n",
       "50  4.934604e-03  1.000000  5.963027e-02  2.526206e-02\n",
       "70  2.821551e-08  0.059630  1.000000e+00  1.000000e+00\n",
       "90  5.611768e-09  0.025262  1.000000e+00  1.000000e+00"
      ]
     },
     "execution_count": 228,
     "metadata": {},
     "output_type": "execute_result"
    }
   ],
   "source": [
    "#事后检验\n",
    "import scikit_posthocs as sp\n",
    "posthoc1=sp.posthoc_ttest(df, val_col='core_loss', group_col='temp', p_adjust='bonferroni')\n",
    "posthoc1\n"
   ]
  },
  {
   "cell_type": "code",
   "execution_count": 219,
   "metadata": {},
   "outputs": [
    {
     "data": {
      "text/plain": [
       "(<Axes: >, <matplotlib.colorbar.Colorbar at 0x1d082970740>)"
      ]
     },
     "execution_count": 219,
     "metadata": {},
     "output_type": "execute_result"
    },
    {
     "data": {
      "image/png": "[encoded data removed]",
      "text/plain": [
       "<Figure size 640x480 with 2 Axes>"
      ]
     },
     "metadata": {},
     "output_type": "display_data"
    }
   ],
   "source": [
    "sp.sign_plot(posthoc)\n"
   ]
  },
  {
   "cell_type": "markdown",
   "metadata": {},
   "source": [
    "波形"
   ]
  },
  {
   "cell_type": "code",
   "execution_count": 224,
   "metadata": {},
   "outputs": [
    {
     "data": {
      "text/plain": [
       "<Axes: xlabel='type_waveform', ylabel='core_loss'>"
      ]
     },
     "execution_count": 224,
     "metadata": {},
     "output_type": "execute_result"
    },
    {
     "data": {
      "image/png": "[encoded data removed]",
      "text/plain": [
       "<Figure size 640x480 with 1 Axes>"
      ]
     },
     "metadata": {},
     "output_type": "display_data"
    }
   ],
   "source": [
    "sns.pointplot(x=df['type_waveform'],y=df['core_loss'])"
   ]
  },
  {
   "cell_type": "code",
   "execution_count": 226,
   "metadata": {},
   "outputs": [
    {
     "data": {
      "text/html": [
       "<div>\n",
       "<style scoped>\n",
       "    .dataframe tbody tr th:only-of-type {\n",
       "        vertical-align: middle;\n",
       "    }\n",
       "\n",
       "    .dataframe tbody tr th {\n",
       "        vertical-align: top;\n",
       "    }\n",
       "\n",
       "    .dataframe thead th {\n",
       "        text-align: right;\n",
       "    }\n",
       "</style>\n",
       "<table border=\"1\" class=\"dataframe\">\n",
       "  <thead>\n",
       "    <tr style=\"text-align: right;\">\n",
       "      <th></th>\n",
       "      <th>df</th>\n",
       "      <th>sum_sq</th>\n",
       "      <th>mean_sq</th>\n",
       "      <th>F</th>\n",
       "      <th>PR(&gt;F)</th>\n",
       "    </tr>\n",
       "  </thead>\n",
       "  <tbody>\n",
       "    <tr>\n",
       "      <th>type_waveform</th>\n",
       "      <td>2.0</td>\n",
       "      <td>7.520255e+13</td>\n",
       "      <td>3.760128e+13</td>\n",
       "      <td>277.334572</td>\n",
       "      <td>1.485398e-118</td>\n",
       "    </tr>\n",
       "    <tr>\n",
       "      <th>Residual</th>\n",
       "      <td>12397.0</td>\n",
       "      <td>1.680797e+15</td>\n",
       "      <td>1.355809e+11</td>\n",
       "      <td>NaN</td>\n",
       "      <td>NaN</td>\n",
       "    </tr>\n",
       "  </tbody>\n",
       "</table>\n",
       "</div>"
      ],
      "text/plain": [
       "                    df        sum_sq       mean_sq           F         PR(>F)\n",
       "type_waveform      2.0  7.520255e+13  3.760128e+13  277.334572  1.485398e-118\n",
       "Residual       12397.0  1.680797e+15  1.355809e+11         NaN            NaN"
      ]
     },
     "execution_count": 226,
     "metadata": {},
     "output_type": "execute_result"
    }
   ],
   "source": [
    "#拟合公式\n",
    "from statsmodels.formula.api import ols\n",
    "model2=ols('core_loss~type_waveform',data=df).fit()\n",
    "#model1.summary() 二选一\n",
    "#标准输出\n",
    "from statsmodels.stats.anova import anova_lm\n",
    "anova_lm(model2)"
   ]
  },
  {
   "cell_type": "code",
   "execution_count": 230,
   "metadata": {},
   "outputs": [
    {
     "data": {
      "text/html": [
       "<div>\n",
       "<style scoped>\n",
       "    .dataframe tbody tr th:only-of-type {\n",
       "        vertical-align: middle;\n",
       "    }\n",
       "\n",
       "    .dataframe tbody tr th {\n",
       "        vertical-align: top;\n",
       "    }\n",
       "\n",
       "    .dataframe thead th {\n",
       "        text-align: right;\n",
       "    }\n",
       "</style>\n",
       "<table border=\"1\" class=\"dataframe\">\n",
       "  <thead>\n",
       "    <tr style=\"text-align: right;\">\n",
       "      <th></th>\n",
       "      <th>正弦波</th>\n",
       "      <th>三角波</th>\n",
       "      <th>梯形波</th>\n",
       "    </tr>\n",
       "  </thead>\n",
       "  <tbody>\n",
       "    <tr>\n",
       "      <th>正弦波</th>\n",
       "      <td>1.000000e+00</td>\n",
       "      <td>9.543892e-107</td>\n",
       "      <td>3.491700e-119</td>\n",
       "    </tr>\n",
       "    <tr>\n",
       "      <th>三角波</th>\n",
       "      <td>9.543892e-107</td>\n",
       "      <td>1.000000e+00</td>\n",
       "      <td>3.416046e-01</td>\n",
       "    </tr>\n",
       "    <tr>\n",
       "      <th>梯形波</th>\n",
       "      <td>3.491700e-119</td>\n",
       "      <td>3.416046e-01</td>\n",
       "      <td>1.000000e+00</td>\n",
       "    </tr>\n",
       "  </tbody>\n",
       "</table>\n",
       "</div>"
      ],
      "text/plain": [
       "               正弦波            三角波            梯形波\n",
       "正弦波   1.000000e+00  9.543892e-107  3.491700e-119\n",
       "三角波  9.543892e-107   1.000000e+00   3.416046e-01\n",
       "梯形波  3.491700e-119   3.416046e-01   1.000000e+00"
      ]
     },
     "execution_count": 230,
     "metadata": {},
     "output_type": "execute_result"
    }
   ],
   "source": [
    "posthoc2=sp.posthoc_ttest(df, val_col='core_loss', group_col='type_waveform', p_adjust='bonferroni')\n",
    "posthoc2\n"
   ]
  },
  {
   "cell_type": "code",
   "execution_count": 231,
   "metadata": {},
   "outputs": [
    {
     "data": {
      "text/plain": [
       "(<Axes: >, <matplotlib.colorbar.Colorbar at 0x1d12242e450>)"
      ]
     },
     "execution_count": 231,
     "metadata": {},
     "output_type": "execute_result"
    },
    {
     "data": {
      "image/png": "[encoded data removed]",
      "text/plain": [
       "<Figure size 640x480 with 2 Axes>"
      ]
     },
     "metadata": {},
     "output_type": "display_data"
    }
   ],
   "source": [
    "sp.sign_plot(posthoc2)"
   ]
  },
  {
   "cell_type": "markdown",
   "metadata": {},
   "source": [
    "材料\n",
    "\n"
   ]
  },
  {
   "cell_type": "code",
   "execution_count": 233,
   "metadata": {},
   "outputs": [
    {
     "data": {
      "text/plain": [
       "<Axes: xlabel='type_material', ylabel='core_loss'>"
      ]
     },
     "execution_count": 233,
     "metadata": {},
     "output_type": "execute_result"
    },
    {
     "data": {
      "image/png": "[encoded data removed]",
      "text/plain": [
       "<Figure size 640x480 with 1 Axes>"
      ]
     },
     "metadata": {},
     "output_type": "display_data"
    }
   ],
   "source": [
    "sns.pointplot(x=df['type_material'],y=df['core_loss'])\n",
    "\n",
    "    "
   ]
  },
  {
   "cell_type": "code",
   "execution_count": 234,
   "metadata": {},
   "outputs": [
    {
     "data": {
      "text/html": [
       "<div>\n",
       "<style scoped>\n",
       "    .dataframe tbody tr th:only-of-type {\n",
       "        vertical-align: middle;\n",
       "    }\n",
       "\n",
       "    .dataframe tbody tr th {\n",
       "        vertical-align: top;\n",
       "    }\n",
       "\n",
       "    .dataframe thead th {\n",
       "        text-align: right;\n",
       "    }\n",
       "</style>\n",
       "<table border=\"1\" class=\"dataframe\">\n",
       "  <thead>\n",
       "    <tr style=\"text-align: right;\">\n",
       "      <th></th>\n",
       "      <th>df</th>\n",
       "      <th>sum_sq</th>\n",
       "      <th>mean_sq</th>\n",
       "      <th>F</th>\n",
       "      <th>PR(&gt;F)</th>\n",
       "    </tr>\n",
       "  </thead>\n",
       "  <tbody>\n",
       "    <tr>\n",
       "      <th>type_material</th>\n",
       "      <td>3.0</td>\n",
       "      <td>4.113720e+13</td>\n",
       "      <td>1.371240e+13</td>\n",
       "      <td>99.121035</td>\n",
       "      <td>2.116712e-63</td>\n",
       "    </tr>\n",
       "    <tr>\n",
       "      <th>Residual</th>\n",
       "      <td>12396.0</td>\n",
       "      <td>1.714862e+15</td>\n",
       "      <td>1.383399e+11</td>\n",
       "      <td>NaN</td>\n",
       "      <td>NaN</td>\n",
       "    </tr>\n",
       "  </tbody>\n",
       "</table>\n",
       "</div>"
      ],
      "text/plain": [
       "                    df        sum_sq       mean_sq          F        PR(>F)\n",
       "type_material      3.0  4.113720e+13  1.371240e+13  99.121035  2.116712e-63\n",
       "Residual       12396.0  1.714862e+15  1.383399e+11        NaN           NaN"
      ]
     },
     "execution_count": 234,
     "metadata": {},
     "output_type": "execute_result"
    }
   ],
   "source": [
    "#拟合公式\n",
    "from statsmodels.formula.api import ols\n",
    "model3=ols('core_loss~type_material',data=df).fit()\n",
    "#model1.summary() 二选一\n",
    "#标准输出\n",
    "from statsmodels.stats.anova import anova_lm\n",
    "anova_lm(model3)\n",
    "    "
   ]
  },
  {
   "cell_type": "code",
   "execution_count": 236,
   "metadata": {},
   "outputs": [
    {
     "data": {
      "text/html": [
       "<div>\n",
       "<style scoped>\n",
       "    .dataframe tbody tr th:only-of-type {\n",
       "        vertical-align: middle;\n",
       "    }\n",
       "\n",
       "    .dataframe tbody tr th {\n",
       "        vertical-align: top;\n",
       "    }\n",
       "\n",
       "    .dataframe thead th {\n",
       "        text-align: right;\n",
       "    }\n",
       "</style>\n",
       "<table border=\"1\" class=\"dataframe\">\n",
       "  <thead>\n",
       "    <tr style=\"text-align: right;\">\n",
       "      <th></th>\n",
       "      <th>1</th>\n",
       "      <th>2</th>\n",
       "      <th>3</th>\n",
       "      <th>4</th>\n",
       "    </tr>\n",
       "  </thead>\n",
       "  <tbody>\n",
       "    <tr>\n",
       "      <th>1</th>\n",
       "      <td>1.000000e+00</td>\n",
       "      <td>3.838859e-08</td>\n",
       "      <td>1.836600e-16</td>\n",
       "      <td>1.353317e-20</td>\n",
       "    </tr>\n",
       "    <tr>\n",
       "      <th>2</th>\n",
       "      <td>3.838859e-08</td>\n",
       "      <td>1.000000e+00</td>\n",
       "      <td>4.163444e-02</td>\n",
       "      <td>1.585768e-45</td>\n",
       "    </tr>\n",
       "    <tr>\n",
       "      <th>3</th>\n",
       "      <td>1.836600e-16</td>\n",
       "      <td>4.163444e-02</td>\n",
       "      <td>1.000000e+00</td>\n",
       "      <td>6.168315e-57</td>\n",
       "    </tr>\n",
       "    <tr>\n",
       "      <th>4</th>\n",
       "      <td>1.353317e-20</td>\n",
       "      <td>1.585768e-45</td>\n",
       "      <td>6.168315e-57</td>\n",
       "      <td>1.000000e+00</td>\n",
       "    </tr>\n",
       "  </tbody>\n",
       "</table>\n",
       "</div>"
      ],
      "text/plain": [
       "              1             2             3             4\n",
       "1  1.000000e+00  3.838859e-08  1.836600e-16  1.353317e-20\n",
       "2  3.838859e-08  1.000000e+00  4.163444e-02  1.585768e-45\n",
       "3  1.836600e-16  4.163444e-02  1.000000e+00  6.168315e-57\n",
       "4  1.353317e-20  1.585768e-45  6.168315e-57  1.000000e+00"
      ]
     },
     "execution_count": 236,
     "metadata": {},
     "output_type": "execute_result"
    }
   ],
   "source": [
    "posthoc3=sp.posthoc_ttest(df, val_col='core_loss', group_col='type_material', p_adjust='bonferroni')\n",
    "posthoc3\n"
   ]
  },
  {
   "cell_type": "code",
   "execution_count": 237,
   "metadata": {},
   "outputs": [
    {
     "data": {
      "text/plain": [
       "(<Axes: >, <matplotlib.colorbar.Colorbar at 0x1d16285a8d0>)"
      ]
     },
     "execution_count": 237,
     "metadata": {},
     "output_type": "execute_result"
    },
    {
     "data": {
      "image/png": "[encoded data removed]",
      "text/plain": [
       "<Figure size 640x480 with 2 Axes>"
      ]
     },
     "metadata": {},
     "output_type": "display_data"
    }
   ],
   "source": [
    "sp.sign_plot(posthoc3)"
   ]
  },
  {
   "cell_type": "markdown",
   "metadata": {},
   "source": [
    "双因素方差分析"
   ]
  },
  {
   "cell_type": "markdown",
   "metadata": {},
   "source": [
    "温度和材料"
   ]
  },
  {
   "cell_type": "code",
   "execution_count": 238,
   "metadata": {},
   "outputs": [
    {
     "name": "stdout",
     "output_type": "stream",
     "text": [
      "                               df        sum_sq       mean_sq          F  \\\n",
      "C(temp)                       3.0  7.513337e+12  2.504446e+12  18.170410   \n",
      "C(type_material)              3.0  4.074941e+13  1.358314e+13  98.549228   \n",
      "C(temp):C(type_material)      9.0  8.374721e+11  9.305246e+10   0.675120   \n",
      "Residual                  12384.0  1.706899e+15  1.378310e+11        NaN   \n",
      "\n",
      "                                PR(>F)  \n",
      "C(temp)                   9.247517e-12  \n",
      "C(type_material)          4.886014e-63  \n",
      "C(temp):C(type_material)  7.322576e-01  \n",
      "Residual                           NaN  \n"
     ]
    }
   ],
   "source": [
    "model = ols('core_loss ~ C(temp) + C(type_material) + C(temp):C(type_material)', data=df).fit()\n",
    "anova_results = anova_lm(model)\n",
    "print(anova_results)"
   ]
  },
  {
   "cell_type": "markdown",
   "metadata": {},
   "source": [
    "温度和波形"
   ]
  },
  {
   "cell_type": "code",
   "execution_count": 239,
   "metadata": {},
   "outputs": [
    {
     "name": "stdout",
     "output_type": "stream",
     "text": [
      "                               df        sum_sq       mean_sq           F  \\\n",
      "C(temp)                       3.0  7.513337e+12  2.504446e+12   18.581496   \n",
      "C(type_waveform)              2.0  7.677357e+13  3.838679e+13  284.807116   \n",
      "C(temp):C(type_waveform)      6.0  2.036619e+12  3.394365e+11    2.518417   \n",
      "Residual                  12388.0  1.669676e+15  1.347817e+11         NaN   \n",
      "\n",
      "                                 PR(>F)  \n",
      "C(temp)                    5.059109e-12  \n",
      "C(type_waveform)          1.172941e-121  \n",
      "C(temp):C(type_waveform)   1.946509e-02  \n",
      "Residual                            NaN  \n"
     ]
    }
   ],
   "source": [
    "\n",
    "model = ols('core_loss ~ C(temp) + C(type_waveform) + C(temp):C(type_waveform)', data=df).fit()\n",
    "anova_results = anova_lm(model)\n",
    "print(anova_results)"
   ]
  },
  {
   "cell_type": "markdown",
   "metadata": {},
   "source": [
    "材料和波形\n"
   ]
  },
  {
   "cell_type": "code",
   "execution_count": 240,
   "metadata": {},
   "outputs": [
    {
     "name": "stdout",
     "output_type": "stream",
     "text": [
      "                                        df        sum_sq       mean_sq  \\\n",
      "C(type_material)                       3.0  4.113720e+13  1.371240e+13   \n",
      "C(type_waveform)                       2.0  7.697475e+13  3.848737e+13   \n",
      "C(type_material):C(type_waveform)      6.0  1.188392e+13  1.980653e+12   \n",
      "Residual                           12388.0  1.626003e+15  1.312563e+11   \n",
      "\n",
      "                                            F         PR(>F)  \n",
      "C(type_material)                   104.470387   8.634886e-67  \n",
      "C(type_waveform)                   293.223002  3.777832e-125  \n",
      "C(type_material):C(type_waveform)   15.089962   2.720745e-17  \n",
      "Residual                                  NaN            NaN  \n"
     ]
    }
   ],
   "source": [
    "model = ols('core_loss ~ C(type_material) + C(type_waveform) + C(type_material):C(type_waveform)', data=df).fit()\n",
    "anova_results = anova_lm(model)\n",
    "print(anova_results)"
   ]
  },
  {
   "cell_type": "markdown",
   "metadata": {},
   "source": [
    "多因素方差分析"
   ]
  },
  {
   "cell_type": "code",
   "execution_count": 241,
   "metadata": {},
   "outputs": [
    {
     "name": "stdout",
     "output_type": "stream",
     "text": [
      "                                        df        sum_sq       mean_sq  \\\n",
      "C(temp)                                3.0  7.513337e+12  2.504446e+12   \n",
      "C(type_waveform)                       2.0  7.677357e+13  3.838679e+13   \n",
      "C(type_material)                       3.0  4.222678e+13  1.407559e+13   \n",
      "C(temp):C(type_waveform)               6.0  1.877707e+12  3.129512e+11   \n",
      "C(temp):C(type_material)               9.0  9.309102e+11  1.034345e+11   \n",
      "C(type_waveform):C(type_material)      6.0  1.224392e+13  2.040653e+12   \n",
      "Residual                           12370.0  1.614433e+15  1.305120e+11   \n",
      "\n",
      "                                            F         PR(>F)  \n",
      "C(temp)                             19.189395   2.073150e-12  \n",
      "C(type_waveform)                   294.124661  1.612616e-125  \n",
      "C(type_material)                   107.849070   6.286165e-69  \n",
      "C(temp):C(type_waveform)             2.397873   2.565599e-02  \n",
      "C(temp):C(type_material)             0.792529   6.233036e-01  \n",
      "C(type_waveform):C(type_material)   15.635753   5.739890e-18  \n",
      "Residual                                  NaN            NaN  \n"
     ]
    }
   ],
   "source": [
    "model = ols('core_loss ~ C(temp) + C(type_waveform) + C(type_material) + C(temp):C(type_waveform) + C(temp):C(type_material) + C(type_waveform):C(type_material)', data=df).fit()\n",
    "anova_results = anova_lm(model)\n",
    "print(anova_results)"
   ]
  }
 ],
 "metadata": {
  "kernelspec": {
   "display_name": "base",
   "language": "python",
   "name": "python3"
  },
  "language_info": {
   "codemirror_mode": {
    "name": "ipython",
    "version": 3
   },
   "file_extension": ".py",
   "mimetype": "text/x-python",
   "name": "python",
   "nbconvert_exporter": "python",
   "pygments_lexer": "ipython3",
   "version": "3.12.3"
  }
 },
 "nbformat": 4,
 "nbformat_minor": 2
}
